{
 "cells": [
  {
   "cell_type": "code",
   "execution_count": 8,
   "metadata": {},
   "outputs": [],
   "source": [
    "import sounddevice as sd\n",
    "import soundfile as sf\n",
    "\n",
    "file = 'C:/Users/UPES/Pictures/Audio_Speech_analysis/data/kaggle_audio_analysis/audio_test/00c4d5b8.wav'\n",
    "data, fs = sf.read(file, dtype = 'float32')\n",
    "sd.play(data, fs)\n",
    "status = sd.wait()"
   ]
  },
  {
   "cell_type": "code",
   "execution_count": 9,
   "metadata": {},
   "outputs": [],
   "source": [
    "#record audio\n",
    "from scipy.io.wavfile import write\n",
    "#set sample rate\n",
    "fs =44100 #std sample rate\n",
    "#set recording duration \n",
    "sec = 2\n",
    "myaudio = sd.rec(int(sec*fs), samplerate =fs, channels = 2)\n",
    "sd.wait()\n",
    "\n",
    "#name the output file\n",
    "write('firstaudio.wav', fs, myaudio)"
   ]
  },
  {
   "cell_type": "code",
   "execution_count": 10,
   "metadata": {},
   "outputs": [],
   "source": [
    "#play the audio you recorded\n",
    "\n",
    "file = 'C:\\\\Users\\\\UPES\\\\Pictures\\\\Audio_Speech_analysis\\\\codes\\\\firstaudio.wav'\n",
    "data, fs = sf.read(file, dtype ='float32')\n",
    "sd.play(data, fs)\n",
    "status = sd.wait()"
   ]
  },
  {
   "cell_type": "code",
   "execution_count": null,
   "metadata": {},
   "outputs": [],
   "source": []
  }
 ],
 "metadata": {
  "kernelspec": {
   "display_name": "Python 3",
   "language": "python",
   "name": "python3"
  },
  "language_info": {
   "codemirror_mode": {
    "name": "ipython",
    "version": 3
   },
   "file_extension": ".py",
   "mimetype": "text/x-python",
   "name": "python",
   "nbconvert_exporter": "python",
   "pygments_lexer": "ipython3",
   "version": "3.7.1"
  }
 },
 "nbformat": 4,
 "nbformat_minor": 2
}
